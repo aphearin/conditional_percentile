{
 "cells": [
  {
   "cell_type": "code",
   "execution_count": 1,
   "metadata": {
    "collapsed": true
   },
   "outputs": [],
   "source": [
    "%load_ext Cython"
   ]
  },
  {
   "cell_type": "code",
   "execution_count": 117,
   "metadata": {
    "collapsed": true
   },
   "outputs": [],
   "source": [
    "def python_insert_pop(arr0, idx_in, value_in, idx_out):\n",
    "    arr = np.copy(arr0).tolist()\n",
    "    if idx_in < idx_out:\n",
    "        arr.insert(idx_in, value_in)\n",
    "        arr.pop(idx_out+1)\n",
    "    elif idx_in == idx_out:\n",
    "        arr[idx_in] = value_in\n",
    "    else:\n",
    "        arr.insert(idx_in+1, value_in)\n",
    "        arr.pop(idx_out)\n",
    "    return np.array(arr, dtype=int)"
   ]
  },
  {
   "cell_type": "code",
   "execution_count": 118,
   "metadata": {},
   "outputs": [],
   "source": [
    "%%cython \n",
    "import numpy as np \n",
    "\n",
    "def cython_insert_pop(double[:] arr, long idx_in, double value_in, long idx_out):\n",
    "    cdef long n = arr.shape[0]\n",
    "    cdef int i\n",
    "    \n",
    "    if idx_in < idx_out:\n",
    "        for i in range(idx_out-1, idx_in-1, -1):\n",
    "            arr[i+1] = arr[i]\n",
    "    else:\n",
    "        for i in range(idx_out, idx_in):\n",
    "            arr[i] = arr[i+1]\n",
    "    arr[idx_in] = value_in\n",
    "    return np.array(arr, dtype=int)"
   ]
  },
  {
   "cell_type": "code",
   "execution_count": 121,
   "metadata": {},
   "outputs": [],
   "source": [
    "n = 90\n",
    "num_tests = int(1e4)\n",
    "\n",
    "for __ in range(num_tests):\n",
    "    value_in = 9\n",
    "    idx_in = np.random.randint(0, n)\n",
    "    idx_out = np.random.randint(0, n)\n",
    "    x = np.random.randint(0, 5, n).astype('f8')\n",
    "    x1 = python_insert_pop(np.copy(x), idx_in, value_in, idx_out)\n",
    "    x2 = cython_insert_pop(np.copy(x), idx_in, value_in, idx_out)\n",
    "    try:\n",
    "        assert np.all(x1 == x2)\n",
    "    except:\n",
    "        np.save('x', x)\n",
    "        print(\"Failure for x = {0}\".format(x.astype(int)))\n",
    "        print(\"idx_in, idx_out, value_in = {0}, {1}, {2}\\n\".format(idx_in, idx_out, value_in))\n",
    "        print(\"python result = {0}\".format(x1))\n",
    "        print(\"cython result = {0}\".format(x2))\n",
    "        break"
   ]
  },
  {
   "cell_type": "code",
   "execution_count": 104,
   "metadata": {},
   "outputs": [
    {
     "data": {
      "text/plain": [
       "(6, 4)"
      ]
     },
     "execution_count": 104,
     "metadata": {},
     "output_type": "execute_result"
    }
   ],
   "source": [
    "idx_in, idx_out"
   ]
  },
  {
   "cell_type": "code",
   "execution_count": 105,
   "metadata": {},
   "outputs": [
    {
     "name": "stdout",
     "output_type": "stream",
     "text": [
      "[0, 1, 3, 4, 2, 4, 3, 2, 4]\n"
     ]
    }
   ],
   "source": [
    "badx = np.load('x.npy').astype(int).tolist()\n",
    "print(badx)"
   ]
  },
  {
   "cell_type": "code",
   "execution_count": 106,
   "metadata": {
    "collapsed": true
   },
   "outputs": [],
   "source": [
    "idx_in, idx_out, value_in = 6, 4, 9\n",
    "orig_input = [0, 1, 3, 4, 2, 4, 3, 2, 4]\n",
    "corr_array = [0, 1, 3, 4, 4, 3, 9, 2, 4]"
   ]
  },
  {
   "cell_type": "code",
   "execution_count": 116,
   "metadata": {},
   "outputs": [
    {
     "name": "stdout",
     "output_type": "stream",
     "text": [
      "[0, 1, 3, 4, 4, 3, 9, 2, 4]\n",
      "[0, 1, 3, 4, 4, 3, 9, 2, 4]\n"
     ]
    }
   ],
   "source": [
    "arr = np.copy(orig_input).tolist()\n",
    "arr.insert(idx_in+1, value_in)\n",
    "arr.pop(idx_out)\n",
    "print(arr)\n",
    "print(corr_array)"
   ]
  },
  {
   "cell_type": "code",
   "execution_count": 107,
   "metadata": {},
   "outputs": [
    {
     "name": "stdout",
     "output_type": "stream",
     "text": [
      "Setting entry 4 from 2 to 4\n",
      "Setting entry 5 from 4 to 3\n",
      "\n",
      "\n",
      "[0, 1, 3, 4, 2, 4, 3, 2, 4]\n",
      "\n",
      "Replacing entry 6 = 3 to 9\n",
      "\n",
      "result     = [0, 1, 3, 4, 4, 3, 9, 2, 4]\n",
      "corr_array = [0, 1, 3, 4, 4, 3, 9, 2, 4]\n"
     ]
    }
   ],
   "source": [
    "arr = np.copy(orig_input)\n",
    "for i in range(idx_out, idx_in):\n",
    "    print(\"Setting entry {0} from {1} to {2}\".format(i, arr[i], arr[i+1]))\n",
    "    arr[i] = arr[i+1]\n",
    "print(\"\\n\")\n",
    "print(orig_input)\n",
    "print(\"\\nReplacing entry {0} = {1} to {2}\".format(idx_in, arr[i], value_in))\n",
    "arr[idx_in] = value_in\n",
    "\n",
    "print(\"\\nresult     = {0}\".format(arr.tolist()))\n",
    "print(\"corr_array = {0}\".format(corr_array))"
   ]
  },
  {
   "cell_type": "code",
   "execution_count": null,
   "metadata": {},
   "outputs": [],
   "source": [
    "\n"
   ]
  },
  {
   "cell_type": "code",
   "execution_count": null,
   "metadata": {},
   "outputs": [],
   "source": [
    "\n"
   ]
  },
  {
   "cell_type": "code",
   "execution_count": null,
   "metadata": {
    "collapsed": true
   },
   "outputs": [],
   "source": []
  }
 ],
 "metadata": {
  "kernelspec": {
   "display_name": "Python [conda root]",
   "language": "python",
   "name": "conda-root-py"
  },
  "language_info": {
   "codemirror_mode": {
    "name": "ipython",
    "version": 2
   },
   "file_extension": ".py",
   "mimetype": "text/x-python",
   "name": "python",
   "nbconvert_exporter": "python",
   "pygments_lexer": "ipython2",
   "version": "2.7.13"
  }
 },
 "nbformat": 4,
 "nbformat_minor": 2
}
